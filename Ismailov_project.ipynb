{
  "nbformat": 4,
  "nbformat_minor": 0,
  "metadata": {
    "colab": {
      "provenance": []
    },
    "kernelspec": {
      "name": "python3",
      "display_name": "Python 3"
    },
    "language_info": {
      "name": "python"
    }
  },
  "cells": [
    {
      "cell_type": "markdown",
      "source": [
        "Контекст\n",
        "\n",
        "Шоколад – одна из самых популярных конфет в мире. Каждый год жители Соединенных Штатов в совокупности съедают более 2,8 миллиарда фунтов. Однако не все шоколадные батончики одинаковы! Этот набор данных содержит экспертные оценки более 1700 отдельных шоколадных батончиков, а также информацию об их региональном происхождении, процентном содержании какао, разновидности используемых шоколадных бобов и месте выращивания бобов.\n",
        "\n",
        "Вкусы какао по рейтинговой системе:\n",
        "5= Элита (Выход за обычные пределы)\n",
        "4= Премиум (Превосходное развитие вкуса, характера и стиля)\n",
        "3= от удовлетворительно (3.0) до похвального (3.75) (хорошо сделано с особыми качествами)\n",
        "2= Разочаровывающий (Сносно, но содержит хотя бы один существенный недостаток)\n",
        "1= Неприятный (в основном неприятный)\n",
        "Каждый шоколад оценивается с точки зрения сочетания как объективных качеств, так и субъективной интерпретации. Рейтинг здесь представляет собой только опыт с одним баром из одной партии. Номера партий, винтажи и даты обзора включаются в базу данных, если они известны.\n",
        "\n",
        "База данных узко ориентирована на простой темный шоколад с целью оценить вкус какао при превращении в шоколад. Рейтинги не отражают пользу для здоровья, социальную миссию или органический статус.\n",
        "\n",
        "Вкус является наиболее важной составляющей рейтинга «Вкусы какао». Разнообразие, сбалансированность, интенсивность и чистота вкусов – все это учитывается. Простой шоколад с одной нотой может быть оценен как сложный вкусовой профиль, который меняется на протяжении всего вкуса. Генетика, терруар, послеуборочные технологии, обработка и хранение — все это можно обсудить при рассмотрении вкусовой составляющей.\n",
        "\n",
        "Текстура оказывает большое влияние на общее впечатление, а также возможно, что проблемы, связанные с текстурой, могут повлиять на вкус. Это хороший способ оценить видение создателей, внимание к деталям и уровень мастерства.\n",
        "\n",
        "Aftermelt - это опыт после того, как шоколад растаял. Шоколад более высокого качества будет стойким и приятным. Поскольку доплавление - это последнее впечатление, которое вы получаете от шоколада, оно получает равное значение в общем рейтинге.\n",
        "\n",
        "Полный Мнение – это действительно то, где рейтинги отражают субъективное мнение. В идеале это моя оценка того, работали ли вышеперечисленные компоненты вместе, и мнение о развитии вкуса, характере и стиле. Именно здесь каждый шоколад обычно можно обобщить самыми яркими впечатлениями, которые вы запомните о каждом шоколаде.\n",
        "\n",
        "Благодарности\n",
        "Эти рейтинги были составлены Брэди Брелински, членом-основателем Манхэттенского шоколадного общества. Для получения актуальной информации, а также дополнительного контента (включая интервью с производителями крафтового шоколада), пожалуйста, посетите его веб-сайт: Вкусы какао\n",
        "\n",
        "Вдохновение\n",
        "Где выращивают лучшие какао-бобы?\n",
        "Какие страны производят слитки с самым высоким рейтингом?\n",
        "Какова связь между процентным содержанием сухих веществ какао и рейтингом?"
      ],
      "metadata": {
        "id": "pLWVbD3pL7uA"
      }
    },
    {
      "cell_type": "code",
      "execution_count": 1,
      "metadata": {
        "id": "NJQ0wlJr2XrE"
      },
      "outputs": [],
      "source": [
        "import pandas as pd\n",
        "from sklearn.tree import DecisionTreeClassifier\n",
        "import matplotlib.pyplot as plt\n",
        "import matplotlib\n",
        "import numpy as np\n",
        "from sklearn import tree\n",
        "from sklearn.model_selection import train_test_split\n",
        "import datetime\n",
        "from datetime import datetime, date"
      ]
    },
    {
      "cell_type": "code",
      "source": [
        "dataset = pd.read_csv('/content/flavors_of_cacao.csv')\n",
        "print(dataset.columns)\n",
        "dataset.drop('Company\\nLocation', axis=1)\n",
        "print(dataset)\n",
        "dataset.info()\n",
        "print('Company -',dataset['Company\\xa0\\n(Maker-if known)'].nunique())\n",
        "print('Broad Bean Origin -',dataset['Broad Bean\\nOrigin'].nunique())\n",
        "print('Company Location -',dataset['Company\\nLocation'].nunique())\n",
        "print('Specific Bean Origin or Bar Name -',dataset['Specific Bean Origin\\nor Bar Name'].nunique())\n",
        "print('Bean Type -',dataset['Bean\\nType'].nunique())"
      ],
      "metadata": {
        "colab": {
          "base_uri": "https://localhost:8080/"
        },
        "id": "9X_Gx-ApB_Nd",
        "outputId": "9b86c324-1fd5-48b8-d3bf-76c7c48b45fd"
      },
      "execution_count": 13,
      "outputs": [
        {
          "output_type": "stream",
          "name": "stdout",
          "text": [
            "Index(['Company \\n(Maker-if known)', 'Specific Bean Origin\\nor Bar Name',\n",
            "       'REF', 'Review\\nDate', 'Cocoa\\nPercent', 'Company\\nLocation', 'Rating',\n",
            "       'Bean\\nType', 'Broad Bean\\nOrigin'],\n",
            "      dtype='object')\n",
            "     Company \\n(Maker-if known) Specific Bean Origin\\nor Bar Name   REF  \\\n",
            "0                      A. Morin                       Agua Grande  1876   \n",
            "1                      A. Morin                             Kpime  1676   \n",
            "2                      A. Morin                            Atsane  1676   \n",
            "3                      A. Morin                             Akata  1680   \n",
            "4                      A. Morin                            Quilla  1704   \n",
            "...                         ...                               ...   ...   \n",
            "1790                     Zotter                              Peru   647   \n",
            "1791                     Zotter                             Congo   749   \n",
            "1792                     Zotter                      Kerala State   749   \n",
            "1793                     Zotter                      Kerala State   781   \n",
            "1794                     Zotter                Brazil, Mitzi Blue   486   \n",
            "\n",
            "      Review\\nDate Cocoa\\nPercent Company\\nLocation  Rating Bean\\nType  \\\n",
            "0             2016            63%            France    3.75              \n",
            "1             2015            70%            France    2.75              \n",
            "2             2015            70%            France    3.00              \n",
            "3             2015            70%            France    3.50              \n",
            "4             2015            70%            France    3.50              \n",
            "...            ...            ...               ...     ...        ...   \n",
            "1790          2011            70%           Austria    3.75              \n",
            "1791          2011            65%           Austria    3.00  Forastero   \n",
            "1792          2011            65%           Austria    3.50  Forastero   \n",
            "1793          2011            62%           Austria    3.25              \n",
            "1794          2010            65%           Austria    3.00              \n",
            "\n",
            "     Broad Bean\\nOrigin  \n",
            "0              Sao Tome  \n",
            "1                  Togo  \n",
            "2                  Togo  \n",
            "3                  Togo  \n",
            "4                  Peru  \n",
            "...                 ...  \n",
            "1790               Peru  \n",
            "1791              Congo  \n",
            "1792              India  \n",
            "1793              India  \n",
            "1794             Brazil  \n",
            "\n",
            "[1795 rows x 9 columns]\n",
            "<class 'pandas.core.frame.DataFrame'>\n",
            "RangeIndex: 1795 entries, 0 to 1794\n",
            "Data columns (total 9 columns):\n",
            " #   Column                            Non-Null Count  Dtype  \n",
            "---  ------                            --------------  -----  \n",
            " 0   Company \n",
            "(Maker-if known)         1795 non-null   object \n",
            " 1   Specific Bean Origin\n",
            "or Bar Name  1795 non-null   object \n",
            " 2   REF                               1795 non-null   int64  \n",
            " 3   Review\n",
            "Date                       1795 non-null   int64  \n",
            " 4   Cocoa\n",
            "Percent                     1795 non-null   object \n",
            " 5   Company\n",
            "Location                  1795 non-null   object \n",
            " 6   Rating                            1795 non-null   float64\n",
            " 7   Bean\n",
            "Type                         1794 non-null   object \n",
            " 8   Broad Bean\n",
            "Origin                 1794 non-null   object \n",
            "dtypes: float64(1), int64(2), object(6)\n",
            "memory usage: 126.3+ KB\n",
            "Company - 416\n",
            "Broad Bean Origin - 100\n",
            "Company Location - 60\n",
            "Specific Bean Origin or Bar Name - 1039\n",
            "Bean Type - 41\n"
          ]
        }
      ]
    },
    {
      "cell_type": "code",
      "source": [
        "dataset_2 = dataset.dropna()\n",
        "dataset_renamed = dataset_2.rename(columns={'Company\\xa0\\n(Maker-if known)': 'Company',\n",
        "                                  'Specific Bean Origin\\nor Bar Name': 'Bar_name',\n",
        "                                  'Review\\nDate': 'Review_date',\n",
        "                                  'Cocoa\\nPercent': 'Cocoa_percent',\n",
        "                                  'Bean\\nType': 'Bean_type',\n",
        "                                  'Broad Bean\\nOrigin': 'Broad_bean'\n",
        "                                  })\n",
        "# dataset_renamed['Company'] = dataset_renamed['Company\\xa0\\n(Maker-if known)']\n",
        "print(dataset_renamed)\n"
      ],
      "metadata": {
        "colab": {
          "base_uri": "https://localhost:8080/"
        },
        "id": "Gpfsppf32gts",
        "outputId": "36a22c8c-025d-4d86-d730-92db8c0de478"
      },
      "execution_count": 11,
      "outputs": [
        {
          "output_type": "stream",
          "name": "stdout",
          "text": [
            "       Company            Bar_name   REF  Review_date Cocoa_percent  \\\n",
            "0     A. Morin         Agua Grande  1876         2016           63%   \n",
            "1     A. Morin               Kpime  1676         2015           70%   \n",
            "2     A. Morin              Atsane  1676         2015           70%   \n",
            "3     A. Morin               Akata  1680         2015           70%   \n",
            "4     A. Morin              Quilla  1704         2015           70%   \n",
            "...        ...                 ...   ...          ...           ...   \n",
            "1790    Zotter                Peru   647         2011           70%   \n",
            "1791    Zotter               Congo   749         2011           65%   \n",
            "1792    Zotter        Kerala State   749         2011           65%   \n",
            "1793    Zotter        Kerala State   781         2011           62%   \n",
            "1794    Zotter  Brazil, Mitzi Blue   486         2010           65%   \n",
            "\n",
            "     Company\\nLocation  Rating  Bean_type Broad_bean  \n",
            "0               France    3.75              Sao Tome  \n",
            "1               France    2.75                  Togo  \n",
            "2               France    3.00                  Togo  \n",
            "3               France    3.50                  Togo  \n",
            "4               France    3.50                  Peru  \n",
            "...                ...     ...        ...        ...  \n",
            "1790           Austria    3.75                  Peru  \n",
            "1791           Austria    3.00  Forastero      Congo  \n",
            "1792           Austria    3.50  Forastero      India  \n",
            "1793           Austria    3.25                 India  \n",
            "1794           Austria    3.00                Brazil  \n",
            "\n",
            "[1793 rows x 9 columns]\n"
          ]
        }
      ]
    },
    {
      "cell_type": "code",
      "source": [
        "dataset.fillna(method=\"ffill\")\n",
        "features = dataset_renamed[['Company', 'Review_date', 'Cocoa_percent', 'Rating', 'Bean_type', 'REF', 'Broad_bean']]\n",
        "labels = dataset_renamed['Bar_name']\n",
        "\n",
        "X_train, Y_train, X_test, Y_test = train_test_split(features, labels, test_size=0.2, random_state=0)\n",
        "\n",
        "class_0 = dataset_renamed[dataset_renamed['Online Shopper'] == 'No']\n",
        "class_1 = dataset_renamed[dataset_renamed['Online Shopper'] == 'Yes']\n",
        "\n",
        "\n",
        "\n",
        "decision_tree = DecisionTreeClassifier()\n",
        "decision_tree.fit(X_train, Y_train)\n",
        "decision_tree.score(X_test, Y_test)"
      ],
      "metadata": {
        "id": "7qwj0zz63wUv",
        "colab": {
          "base_uri": "https://localhost:8080/",
          "height": 529
        },
        "outputId": "75455fb1-e6f3-4d7c-8faf-2082fb4c70e1"
      },
      "execution_count": 14,
      "outputs": [
        {
          "output_type": "error",
          "ename": "KeyError",
          "evalue": "'Online Shopper'",
          "traceback": [
            "\u001b[0;31m---------------------------------------------------------------------------\u001b[0m",
            "\u001b[0;31mKeyError\u001b[0m                                  Traceback (most recent call last)",
            "\u001b[0;32m/usr/local/lib/python3.10/dist-packages/pandas/core/indexes/base.py\u001b[0m in \u001b[0;36mget_loc\u001b[0;34m(self, key, method, tolerance)\u001b[0m\n\u001b[1;32m   3801\u001b[0m             \u001b[0;32mtry\u001b[0m\u001b[0;34m:\u001b[0m\u001b[0;34m\u001b[0m\u001b[0;34m\u001b[0m\u001b[0m\n\u001b[0;32m-> 3802\u001b[0;31m                 \u001b[0;32mreturn\u001b[0m \u001b[0mself\u001b[0m\u001b[0;34m.\u001b[0m\u001b[0m_engine\u001b[0m\u001b[0;34m.\u001b[0m\u001b[0mget_loc\u001b[0m\u001b[0;34m(\u001b[0m\u001b[0mcasted_key\u001b[0m\u001b[0;34m)\u001b[0m\u001b[0;34m\u001b[0m\u001b[0;34m\u001b[0m\u001b[0m\n\u001b[0m\u001b[1;32m   3803\u001b[0m             \u001b[0;32mexcept\u001b[0m \u001b[0mKeyError\u001b[0m \u001b[0;32mas\u001b[0m \u001b[0merr\u001b[0m\u001b[0;34m:\u001b[0m\u001b[0;34m\u001b[0m\u001b[0;34m\u001b[0m\u001b[0m\n",
            "\u001b[0;32m/usr/local/lib/python3.10/dist-packages/pandas/_libs/index.pyx\u001b[0m in \u001b[0;36mpandas._libs.index.IndexEngine.get_loc\u001b[0;34m()\u001b[0m\n",
            "\u001b[0;32m/usr/local/lib/python3.10/dist-packages/pandas/_libs/index.pyx\u001b[0m in \u001b[0;36mpandas._libs.index.IndexEngine.get_loc\u001b[0;34m()\u001b[0m\n",
            "\u001b[0;32mpandas/_libs/hashtable_class_helper.pxi\u001b[0m in \u001b[0;36mpandas._libs.hashtable.PyObjectHashTable.get_item\u001b[0;34m()\u001b[0m\n",
            "\u001b[0;32mpandas/_libs/hashtable_class_helper.pxi\u001b[0m in \u001b[0;36mpandas._libs.hashtable.PyObjectHashTable.get_item\u001b[0;34m()\u001b[0m\n",
            "\u001b[0;31mKeyError\u001b[0m: 'Online Shopper'",
            "\nThe above exception was the direct cause of the following exception:\n",
            "\u001b[0;31mKeyError\u001b[0m                                  Traceback (most recent call last)",
            "\u001b[0;32m<ipython-input-14-80187cb4d72a>\u001b[0m in \u001b[0;36m<cell line: 7>\u001b[0;34m()\u001b[0m\n\u001b[1;32m      5\u001b[0m \u001b[0mX_train\u001b[0m\u001b[0;34m,\u001b[0m \u001b[0mY_train\u001b[0m\u001b[0;34m,\u001b[0m \u001b[0mX_test\u001b[0m\u001b[0;34m,\u001b[0m \u001b[0mY_test\u001b[0m \u001b[0;34m=\u001b[0m \u001b[0mtrain_test_split\u001b[0m\u001b[0;34m(\u001b[0m\u001b[0mfeatures\u001b[0m\u001b[0;34m,\u001b[0m \u001b[0mlabels\u001b[0m\u001b[0;34m,\u001b[0m \u001b[0mtest_size\u001b[0m\u001b[0;34m=\u001b[0m\u001b[0;36m0.2\u001b[0m\u001b[0;34m,\u001b[0m \u001b[0mrandom_state\u001b[0m\u001b[0;34m=\u001b[0m\u001b[0;36m0\u001b[0m\u001b[0;34m)\u001b[0m\u001b[0;34m\u001b[0m\u001b[0;34m\u001b[0m\u001b[0m\n\u001b[1;32m      6\u001b[0m \u001b[0;34m\u001b[0m\u001b[0m\n\u001b[0;32m----> 7\u001b[0;31m \u001b[0mclass_0\u001b[0m \u001b[0;34m=\u001b[0m \u001b[0mdataset_renamed\u001b[0m\u001b[0;34m[\u001b[0m\u001b[0mdataset_renamed\u001b[0m\u001b[0;34m[\u001b[0m\u001b[0;34m'Online Shopper'\u001b[0m\u001b[0;34m]\u001b[0m \u001b[0;34m==\u001b[0m \u001b[0;34m'No'\u001b[0m\u001b[0;34m]\u001b[0m\u001b[0;34m\u001b[0m\u001b[0;34m\u001b[0m\u001b[0m\n\u001b[0m\u001b[1;32m      8\u001b[0m \u001b[0mclass_1\u001b[0m \u001b[0;34m=\u001b[0m \u001b[0mdataset_renamed\u001b[0m\u001b[0;34m[\u001b[0m\u001b[0mdataset_renamed\u001b[0m\u001b[0;34m[\u001b[0m\u001b[0;34m'Online Shopper'\u001b[0m\u001b[0;34m]\u001b[0m \u001b[0;34m==\u001b[0m \u001b[0;34m'Yes'\u001b[0m\u001b[0;34m]\u001b[0m\u001b[0;34m\u001b[0m\u001b[0;34m\u001b[0m\u001b[0m\n\u001b[1;32m      9\u001b[0m \u001b[0;34m\u001b[0m\u001b[0m\n",
            "\u001b[0;32m/usr/local/lib/python3.10/dist-packages/pandas/core/frame.py\u001b[0m in \u001b[0;36m__getitem__\u001b[0;34m(self, key)\u001b[0m\n\u001b[1;32m   3805\u001b[0m             \u001b[0;32mif\u001b[0m \u001b[0mself\u001b[0m\u001b[0;34m.\u001b[0m\u001b[0mcolumns\u001b[0m\u001b[0;34m.\u001b[0m\u001b[0mnlevels\u001b[0m \u001b[0;34m>\u001b[0m \u001b[0;36m1\u001b[0m\u001b[0;34m:\u001b[0m\u001b[0;34m\u001b[0m\u001b[0;34m\u001b[0m\u001b[0m\n\u001b[1;32m   3806\u001b[0m                 \u001b[0;32mreturn\u001b[0m \u001b[0mself\u001b[0m\u001b[0;34m.\u001b[0m\u001b[0m_getitem_multilevel\u001b[0m\u001b[0;34m(\u001b[0m\u001b[0mkey\u001b[0m\u001b[0;34m)\u001b[0m\u001b[0;34m\u001b[0m\u001b[0;34m\u001b[0m\u001b[0m\n\u001b[0;32m-> 3807\u001b[0;31m             \u001b[0mindexer\u001b[0m \u001b[0;34m=\u001b[0m \u001b[0mself\u001b[0m\u001b[0;34m.\u001b[0m\u001b[0mcolumns\u001b[0m\u001b[0;34m.\u001b[0m\u001b[0mget_loc\u001b[0m\u001b[0;34m(\u001b[0m\u001b[0mkey\u001b[0m\u001b[0;34m)\u001b[0m\u001b[0;34m\u001b[0m\u001b[0;34m\u001b[0m\u001b[0m\n\u001b[0m\u001b[1;32m   3808\u001b[0m             \u001b[0;32mif\u001b[0m \u001b[0mis_integer\u001b[0m\u001b[0;34m(\u001b[0m\u001b[0mindexer\u001b[0m\u001b[0;34m)\u001b[0m\u001b[0;34m:\u001b[0m\u001b[0;34m\u001b[0m\u001b[0;34m\u001b[0m\u001b[0m\n\u001b[1;32m   3809\u001b[0m                 \u001b[0mindexer\u001b[0m \u001b[0;34m=\u001b[0m \u001b[0;34m[\u001b[0m\u001b[0mindexer\u001b[0m\u001b[0;34m]\u001b[0m\u001b[0;34m\u001b[0m\u001b[0;34m\u001b[0m\u001b[0m\n",
            "\u001b[0;32m/usr/local/lib/python3.10/dist-packages/pandas/core/indexes/base.py\u001b[0m in \u001b[0;36mget_loc\u001b[0;34m(self, key, method, tolerance)\u001b[0m\n\u001b[1;32m   3802\u001b[0m                 \u001b[0;32mreturn\u001b[0m \u001b[0mself\u001b[0m\u001b[0;34m.\u001b[0m\u001b[0m_engine\u001b[0m\u001b[0;34m.\u001b[0m\u001b[0mget_loc\u001b[0m\u001b[0;34m(\u001b[0m\u001b[0mcasted_key\u001b[0m\u001b[0;34m)\u001b[0m\u001b[0;34m\u001b[0m\u001b[0;34m\u001b[0m\u001b[0m\n\u001b[1;32m   3803\u001b[0m             \u001b[0;32mexcept\u001b[0m \u001b[0mKeyError\u001b[0m \u001b[0;32mas\u001b[0m \u001b[0merr\u001b[0m\u001b[0;34m:\u001b[0m\u001b[0;34m\u001b[0m\u001b[0;34m\u001b[0m\u001b[0m\n\u001b[0;32m-> 3804\u001b[0;31m                 \u001b[0;32mraise\u001b[0m \u001b[0mKeyError\u001b[0m\u001b[0;34m(\u001b[0m\u001b[0mkey\u001b[0m\u001b[0;34m)\u001b[0m \u001b[0;32mfrom\u001b[0m \u001b[0merr\u001b[0m\u001b[0;34m\u001b[0m\u001b[0;34m\u001b[0m\u001b[0m\n\u001b[0m\u001b[1;32m   3805\u001b[0m             \u001b[0;32mexcept\u001b[0m \u001b[0mTypeError\u001b[0m\u001b[0;34m:\u001b[0m\u001b[0;34m\u001b[0m\u001b[0;34m\u001b[0m\u001b[0m\n\u001b[1;32m   3806\u001b[0m                 \u001b[0;31m# If we have a listlike key, _check_indexing_error will raise\u001b[0m\u001b[0;34m\u001b[0m\u001b[0;34m\u001b[0m\u001b[0m\n",
            "\u001b[0;31mKeyError\u001b[0m: 'Online Shopper'"
          ]
        }
      ]
    }
  ]
}